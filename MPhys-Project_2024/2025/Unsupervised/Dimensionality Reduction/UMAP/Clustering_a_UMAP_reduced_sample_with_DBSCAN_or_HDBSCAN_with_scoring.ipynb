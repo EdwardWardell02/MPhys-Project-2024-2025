{
 "cells": [
  {
   "cell_type": "markdown",
   "metadata": {},
   "source": [
    "# Clustering a UMAP Reduced Sample with DBSCAN or HDBSCAN with Scoring"
   ]
  },
  {
   "cell_type": "code",
   "execution_count": null,
   "metadata": {},
   "outputs": [],
   "source": [
    "import numpy as np\n",
    "import pandas as pd\n",
    "import umap\n",
    "from sklearn.cluster import DBSCAN\n",
    "import hdbscan\n",
    "from sklearn.preprocessing import StandardScaler\n",
    "import matplotlib.pyplot as plt\n",
    "from sklearn.metrics import silhouette_score, davies_bouldin_score\n",
    "\n",
    "# Load the dataset\n",
    "data = pd.read_csv('data.csv')\n",
    "\n",
    "# Standardize the features\n",
    "scaler = StandardScaler()\n",
    "data_scaled = scaler.fit_transform(data)\n",
    "\n",
    "# Apply UMAP for dimensionality reduction\n",
    "umap_reducer = umap.UMAP(n_neighbors=15, min_dist=0.1, n_components=2, random_state=42)\n",
    "umap_embedding = umap_reducer.fit_transform(data_scaled)\n",
    "\n",
    "# Apply DBSCAN clustering\n",
    "dbscan = DBSCAN(eps=0.5, min_samples=5)\n",
    "dbscan_labels = dbscan.fit_predict(umap_embedding)\n",
    "\n",
    "# Apply HDBSCAN clustering\n",
    "hdbscan_clusterer = hdbscan.HDBSCAN(min_cluster_size=10)\n",
    "hdbscan_labels = hdbscan_clusterer.fit_predict(umap_embedding)\n",
    "\n",
    "# Calculate clustering scores\n",
    "dbscan_silhouette = silhouette_score(umap_embedding, dbscan_labels)\n",
    "dbscan_davies_bouldin = davies_bouldin_score(umap_embedding, dbscan_labels)\n",
    "\n",
    "hdbscan_silhouette = silhouette_score(umap_embedding, hdbscan_labels)\n",
    "hdbscan_davies_bouldin = davies_bouldin_score(umap_embedding, hdbscan_labels)\n",
    "\n",
    "# Print the scores\n",
    "print(f'DBSCAN Silhouette Score: {dbscan_silhouette}')\n",
    "print(f'DBSCAN Davies-Bouldin Score: {dbscan_davies_bouldin}')\n",
    "print(f'HDBSCAN Silhouette Score: {hdbscan_silhouette}')\n",
    "print(f'HDBSCAN Davies-Bouldin Score: {hdbscan_davies_bouldin}')\n",
    "\n",
    "# Plot the results\n",
    "plt.figure(figsize=(12, 6))\n",
    "plt.subplot(1, 2, 1)\n",
    "plt.scatter(umap_embedding[:, 0], umap_embedding[:, 1], c=dbscan_labels, cmap='viridis')\n",
    "plt.title('DBSCAN Clustering')\n",
    "plt.subplot(1, 2, 2)\n",
    "plt.scatter(umap_embedding[:, 0], umap_embedding[:, 1], c=hdbscan_labels, cmap='viridis')\n",
    "plt.title('HDBSCAN Clustering')\n",
    "plt.show()\n"
   ]
  }
 ],
 "metadata": {
  "kernelspec": {
   "display_name": "Python 3",
   "language": "python",
   "name": "python3"
  },
  "language_info": {
   "codemirror_mode": {
    "name": "ipython",
    "version": 3
   },
   "file_extension": ".py",
   "mimetype": "text/x-python",
   "name": "python",
   "nbconvert_exporter": "python",
   "pygments_lexer": "ipython3",
   "version": "3.8.5"
  }
 },
 "nbformat": 4,
 "nbformat_minor": 4
}
