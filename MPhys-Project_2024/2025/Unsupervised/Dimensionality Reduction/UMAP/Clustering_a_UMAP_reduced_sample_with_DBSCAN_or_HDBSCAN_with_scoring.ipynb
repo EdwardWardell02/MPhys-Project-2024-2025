{
 "cells": [
  {
   "cell_type": "markdown",
   "metadata": {},
   "source": [
    "# Clustering a UMAP Reduced Sample with DBSCAN or HDBSCAN with Scoring\n",
    "\n",
    "This notebook demonstrates the use of DBSCAN and HDBSCAN clustering on a UMAP reduced sample and evaluates the clustering performance using various scoring metrics."
   ]
  },
  {
   "cell_type": "code",
   "execution_count": null,
   "metadata": {},
   "outputs": [],
   "source": [
    "# Import necessary libraries\n",
    "import numpy as np\n",
    "import pandas as pd\n",
    "import umap\n",
    "from sklearn.cluster import DBSCAN\n",
    "import hdbscan\n",
    "from sklearn.preprocessing import StandardScaler\n",
    "from sklearn.metrics import silhouette_score, davies_bouldin_score, calinski_harabasz_score\n",
    "import matplotlib.pyplot as plt\n",
    "%matplotlib inline"
   ]
  },
  {
   "cell_type": "markdown",
   "metadata": {},
   "source": [
    "## Load the Data\n",
    "\n",
    "Load the dataset to be reduced and clustered."
   ]
  },
  {
   "cell_type": "code",
   "execution_count": null,
   "metadata": {},
   "outputs": [],
   "source": [
    "# Load the data\n",
    "data = pd.read_csv('data.csv')\n",
    "\n",
    "# Display the first few rows of the data\n",
    "data.head()"
   ]
  },
  {
   "cell_type": "markdown",
   "metadata": {},
   "source": [
    "## Preprocess the Data\n",
    "\n",
    "Standardize the features before applying UMAP."
   ]
  },
  {
   "cell_type": "code",
   "execution_count": null,
   "metadata": {},
   "outputs": [],
   "source": [
    "# Standardize the features\n",
    "scaler = StandardScaler()\n",
    "data_scaled = scaler.fit_transform(data)"
   ]
  },
  {
   "cell_type": "markdown",
   "metadata": {},
   "source": [
    "## Apply UMAP\n",
    "\n",
    "Reduce the dimensionality of the data using UMAP."
   ]
  },
  {
   "cell_type": "code",
   "execution_count": null,
   "metadata": {},
   "outputs": [],
   "source": [
    "# Apply UMAP\n",
    "reducer = umap.UMAP(n_neighbors=15, min_dist=0.1, n_components=2, random_state=42)\n",
    "umap_data = reducer.fit_transform(data_scaled)\n",
    "\n",
    "# Convert to DataFrame\n",
    "umap_df = pd.DataFrame(umap_data, columns=['UMAP1', 'UMAP2'])\n",
    "umap_df.head()"
   ]
  },
  {
   "cell_type": "markdown",
   "metadata": {},
   "source": [
    "## Apply DBSCAN\n",
    "\n",
    "Cluster the UMAP reduced data using DBSCAN."
   ]
  },
  {
   "cell_type": "code",
   "execution_count": null,
   "metadata": {},
   "outputs": [],
   "source": [
    "# Apply DBSCAN\n",
    "dbscan = DBSCAN(eps=0.5, min_samples=5)\n",
    "dbscan_labels = dbscan.fit_predict(umap_df)\n",
    "\n",
    "# Add the cluster labels to the UMAP data\n",
    "umap_df['DBSCAN_Cluster'] = dbscan_labels"
   ]
  },
  {
   "cell_type": "markdown",
   "metadata": {},
   "source": [
    "## Apply HDBSCAN\n",
    "\n",
    "Cluster the UMAP reduced data using HDBSCAN."
   ]
  },
  {
   "cell_type": "code",
   "execution_count": null,
   "metadata": {},
   "outputs": [],
   "source": [
    "# Apply HDBSCAN\n",
    "hdbscan_clusterer = hdbscan.HDBSCAN(min_cluster_size=5)\n",
    "hdbscan_labels = hdbscan_clusterer.fit_predict(umap_df)\n",
    "\n",
    "# Add the cluster labels to the UMAP data\n",
    "umap_df['HDBSCAN_Cluster'] = hdbscan_labels"
   ]
  },
  {
   "cell_type": "markdown",
   "metadata": {},
   "source": [
    "## Evaluate Clustering Performance\n",
    "\n",
    "Evaluate the clustering performance using Silhouette Score, Davies-Bouldin Score, and Calinski-Harabasz Score."
   ]
  },
  {
   "cell_type": "code",
   "execution_count": null,
   "metadata": {},
   "outputs": [],
   "source": [
    "# Evaluate DBSCAN clustering performance\n",
    "dbscan_silhouette = silhouette_score(umap_df[['UMAP1', 'UMAP2']], dbscan_labels)\n",
    "dbscan_davies_bouldin = davies_bouldin_score(umap_df[['UMAP1', 'UMAP2']], dbscan_labels)\n",
    "dbscan_calinski_harabasz = calinski_harabasz_score(umap_df[['UMAP1', 'UMAP2']], dbscan_labels)\n",
    "\n",
    "print(f'DBSCAN Silhouette Score: {dbscan_silhouette}')\n",
    "print(f'DBSCAN Davies-Bouldin Score: {dbscan_davies_bouldin}')\n",
    "print(f'DBSCAN Calinski-Harabasz Score: {dbscan_calinski_harabasz}')"
   ]
  },
  {
   "cell_type": "code",
   "execution_count": null,
   "metadata": {},
   "outputs": [],
   "source": [
    "# Evaluate HDBSCAN clustering performance\n",
    "hdbscan_silhouette = silhouette_score(umap_df[['UMAP1', 'UMAP2']], hdbscan_labels)\n",
    "hdbscan_davies_bouldin = davies_bouldin_score(umap_df[['UMAP1', 'UMAP2']], hdbscan_labels)\n",
    "hdbscan_calinski_harabasz = calinski_harabasz_score(umap_df[['UMAP1', 'UMAP2']], hdbscan_labels)\n",
    "\n",
    "print(f'HDBSCAN Silhouette Score: {hdbscan_silhouette}')\n",
    "print(f'HDBSCAN Davies-Bouldin Score: {hdbscan_davies_bouldin}')\n",
    "print(f'HDBSCAN Calinski-Harabasz Score: {hdbscan_calinski_harabasz}')"
   ]
  },
  {
   "cell_type": "markdown",
   "metadata": {},
   "source": [
    "## Visualize the Clustering Results\n",
    "\n",
    "Visualize the clustering results for both DBSCAN and HDBSCAN."
   ]
  },
  {
   "cell_type": "code",
   "execution_count": null,
   "metadata": {},
   "outputs": [],
   "source": [
    "# Visualize DBSCAN clustering results\n",
    "plt.figure(figsize=(10, 6))\n",
    "plt.scatter(umap_df['UMAP1'], umap_df['UMAP2'], c=umap_df['DBSCAN_Cluster'], cmap='viridis')\n",
    "plt.xlabel('UMAP1')\n",
    "plt.ylabel('UMAP2')\n",
    "plt.title('DBSCAN Clustering on UMAP Reduced Data')\n",
    "plt.show()"
   ]
  },
  {
   "cell_type": "code",
   "execution_count": null,
   "metadata": {},
   "outputs": [],
   "source": [
    "# Visualize HDBSCAN clustering results\n",
    "plt.figure(figsize=(10, 6))\n",
    "plt.scatter(umap_df['UMAP1'], umap_df['UMAP2'], c=umap_df['HDBSCAN_Cluster'], cmap='plasma')\n",
    "plt.xlabel('UMAP1')\n",
    "plt.ylabel('UMAP2')\n",
    "plt.title('HDBSCAN Clustering on UMAP Reduced Data')\n",
    "plt.show()"
   ]
  }
 ],
 "metadata": {
  "kernelspec": {
   "display_name": "Python 3",
   "language": "python",
   "name": "python3"
  },
  "language_info": {
   "codemirror_mode": {
    "name": "ipython",
    "version": 3
   },
   "file_extension": ".py",
   "mimetype": "text/x-python",
   "name": "python",
   "nbconvert_exporter": "python",
   "pygments_lexer": "ipython3",
   "version": "3.8.5"
  }
 },
 "nbformat": 4,
 "nbformat_minor": 4
}
