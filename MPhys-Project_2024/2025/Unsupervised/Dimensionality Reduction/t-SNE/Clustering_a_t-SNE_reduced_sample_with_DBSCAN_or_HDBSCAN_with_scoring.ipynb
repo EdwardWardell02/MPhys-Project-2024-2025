{
 "cells": [
  {
   "cell_type": "markdown",
   "metadata": {},
   "source": [
    "# Clustering a t-SNE Reduced Sample with DBSCAN or HDBSCAN with Scoring"
   ]
  },
  {
   "cell_type": "code",
   "execution_count": null,
   "metadata": {},
   "outputs": [],
   "source": [
    "import numpy as np\n",
    "import pandas as pd\n",
    "from sklearn.manifold import TSNE\n",
    "from sklearn.cluster import DBSCAN\n",
    "import hdbscan\n",
    "from sklearn.preprocessing import StandardScaler\n",
    "import matplotlib.pyplot as plt\n",
    "from sklearn.metrics import silhouette_score, davies_bouldin_score\n",
    "\n",
    "# Load the dataset\n",
    "data = pd.read_csv('data.csv')\n",
    "\n",
    "# Standardize the features\n",
    "scaler = StandardScaler()\n",
    "data_scaled = scaler.fit_transform(data)\n",
    "\n",
    "# Apply t-SNE for dimensionality reduction\n",
    "tsne = TSNE(n_components=2, perplexity=30, n_iter=300, random_state=42)\n",
    "tsne_embedding = tsne.fit_transform(data_scaled)\n",
    "\n",
    "# Apply DBSCAN clustering\n",
    "dbscan = DBSCAN(eps=0.5, min_samples=5)\n",
    "dbscan_labels = dbscan.fit_predict(tsne_embedding)\n",
    "\n",
    "# Apply HDBSCAN clustering\n",
    "hdbscan_clusterer = hdbscan.HDBSCAN(min_cluster_size=10)\n",
    "hdbscan_labels = hdbscan_clusterer.fit_predict(tsne_embedding)\n",
    "\n",
    "# Calculate clustering scores\n",
    "dbscan_silhouette = silhouette_score(tsne_embedding, dbscan_labels)\n",
    "dbscan_davies_bouldin = davies_bouldin_score(tsne_embedding, dbscan_labels)\n",
    "\n",
    "hdbscan_silhouette = silhouette_score(tsne_embedding, hdbscan_labels)\n",
    "hdbscan_davies_bouldin = davies_bouldin_score(tsne_embedding, hdbscan_labels)\n",
    "\n",
    "# Print the scores\n",
    "print(f'DBSCAN Silhouette Score: {dbscan_silhouette}')\n",
    "print(f'DBSCAN Davies-Bouldin Score: {dbscan_davies_bouldin}')\n",
    "print(f'HDBSCAN Silhouette Score: {hdbscan_silhouette}')\n",
    "print(f'HDBSCAN Davies-Bouldin Score: {hdbscan_davies_bouldin}')\n",
    "\n",
    "# Plot the results\n",
    "plt.figure(figsize=(12, 6))\n",
    "plt.subplot(1, 2, 1)\n",
    "plt.scatter(tsne_embedding[:, 0], tsne_embedding[:, 1], c=dbscan_labels, cmap='viridis')\n",
    "plt.title('DBSCAN Clustering')\n",
    "plt.subplot(1, 2, 2)\n",
    "plt.scatter(tsne_embedding[:, 0], tsne_embedding[:, 1], c=hdbscan_labels, cmap='viridis')\n",
    "plt.title('HDBSCAN Clustering')\n",
    "plt.show()\n"
   ]
  }
 ],
 "metadata": {
  "kernelspec": {
   "display_name": "Python 3",
   "language": "python",
   "name": "python3"
  },
  "language_info": {
   "codemirror_mode": {
    "name": "ipython",
    "version": 3
   },
   "file_extension": ".py",
   "mimetype": "text/x-python",
   "name": "python",
   "nbconvert_exporter": "python",
   "pygments_lexer": "ipython3",
   "version": "3.8.5"
  }
 },
 "nbformat": 4,
 "nbformat_minor": 4
}
