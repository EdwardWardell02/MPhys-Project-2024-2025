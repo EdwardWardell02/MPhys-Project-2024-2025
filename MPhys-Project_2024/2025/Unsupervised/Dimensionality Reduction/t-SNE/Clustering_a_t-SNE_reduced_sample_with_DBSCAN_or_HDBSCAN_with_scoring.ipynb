{
 "cells": [
  {
   "cell_type": "markdown",
   "metadata": {},
   "source": [
    "# Clustering a t-SNE Reduced Sample with DBSCAN or HDBSCAN with Scoring\n",
    "\n",
    "This notebook demonstrates the use of DBSCAN and HDBSCAN clustering on a t-SNE reduced sample and evaluates the clustering performance using various scoring metrics."
   ]
  },
  {
   "cell_type": "code",
   "execution_count": null,
   "metadata": {},
   "outputs": [],
   "source": [
    "# Import necessary libraries\n",
    "import numpy as np\n",
    "import pandas as pd\n",
    "from sklearn.manifold import TSNE\n",
    "from sklearn.cluster import DBSCAN\n",
    "import hdbscan\n",
    "from sklearn.preprocessing import StandardScaler\n",
    "from sklearn.metrics import silhouette_score, davies_bouldin_score, calinski_harabasz_score\n",
    "import matplotlib.pyplot as plt\n",
    "%matplotlib inline"
   ]
  },
  {
   "cell_type": "markdown",
   "metadata": {},
   "source": [
    "## Load the Data\n",
    "\n",
    "Load the dataset to be reduced and clustered."
   ]
  },
  {
   "cell_type": "code",
   "execution_count": null,
   "metadata": {},
   "outputs": [],
   "source": [
    "# Load the data\n",
    "data = pd.read_csv('data.csv')\n",
    "\n",
    "# Display the first few rows of the data\n",
    "data.head()"
   ]
  },
  {
   "cell_type": "markdown",
   "metadata": {},
   "source": [
    "## Preprocess the Data\n",
    "\n",
    "Standardize the features before applying t-SNE."
   ]
  },
  {
   "cell_type": "code",
   "execution_count": null,
   "metadata": {},
   "outputs": [],
   "source": [
    "# Standardize the features\n",
    "scaler = StandardScaler()\n",
    "data_scaled = scaler.fit_transform(data)"
   ]
  },
  {
   "cell_type": "markdown",
   "metadata": {},
   "source": [
    "## Apply t-SNE\n",
    "\n",
    "Reduce the dimensionality of the data using t-SNE."
   ]
  },
  {
   "cell_type": "code",
   "execution_count": null,
   "metadata": {},
   "outputs": [],
   "source": [
    "# Apply t-SNE\n",
    "tsne = TSNE(n_components=2, random_state=42)\n",
    "tsne_data = tsne.fit_transform(data_scaled)\n",
    "\n",
    "# Convert to DataFrame\n",
    "tsne_df = pd.DataFrame(tsne_data, columns=['t-SNE1', 't-SNE2'])\n",
    "tsne_df.head()"
   ]
  },
  {
   "cell_type": "markdown",
   "metadata": {},
   "source": [
    "## Apply DBSCAN\n",
    "\n",
    "Cluster the t-SNE reduced data using DBSCAN."
   ]
  },
  {
   "cell_type": "code",
   "execution_count": null,
   "metadata": {},
   "outputs": [],
   "source": [
    "# Apply DBSCAN\n",
    "dbscan = DBSCAN(eps=0.5, min_samples=5)\n",
    "dbscan_labels = dbscan.fit_predict(tsne_df)\n",
    "\n",
    "# Add the cluster labels to the t-SNE data\n",
    "tsne_df['DBSCAN_Cluster'] = dbscan_labels"
   ]
  },
  {
   "cell_type": "markdown",
   "metadata": {},
   "source": [
    "## Apply HDBSCAN\n",
    "\n",
    "Cluster the t-SNE reduced data using HDBSCAN."
   ]
  },
  {
   "cell_type": "code",
   "execution_count": null,
   "metadata": {},
   "outputs": [],
   "source": [
    "# Apply HDBSCAN\n",
    "hdbscan_clusterer = hdbscan.HDBSCAN(min_cluster_size=5)\n",
    "hdbscan_labels = hdbscan_clusterer.fit_predict(tsne_df)\n",
    "\n",
    "# Add the cluster labels to the t-SNE data\n",
    "tsne_df['HDBSCAN_Cluster'] = hdbscan_labels"
   ]
  },
  {
   "cell_type": "markdown",
   "metadata": {},
   "source": [
    "## Evaluate Clustering Performance\n",
    "\n",
    "Evaluate the clustering performance using Silhouette Score, Davies-Bouldin Score, and Calinski-Harabasz Score."
   ]
  },
  {
   "cell_type": "code",
   "execution_count": null,
   "metadata": {},
   "outputs": [],
   "source": [
    "# Evaluate DBSCAN clustering performance\n",
    "dbscan_silhouette = silhouette_score(tsne_df[['t-SNE1', 't-SNE2']], dbscan_labels)\n",
    "dbscan_davies_bouldin = davies_bouldin_score(tsne_df[['t-SNE1', 't-SNE2']], dbscan_labels)\n",
    "dbscan_calinski_harabasz = calinski_harabasz_score(tsne_df[['t-SNE1', 't-SNE2']], dbscan_labels)\n",
    "\n",
    "print(f'DBSCAN Silhouette Score: {dbscan_silhouette}')\n",
    "print(f'DBSCAN Davies-Bouldin Score: {dbscan_davies_bouldin}')\n",
    "print(f'DBSCAN Calinski-Harabasz Score: {dbscan_calinski_harabasz}')"
   ]
  },
  {
   "cell_type": "code",
   "execution_count": null,
   "metadata": {},
   "outputs": [],
   "source": [
    "# Evaluate HDBSCAN clustering performance\n",
    "hdbscan_silhouette = silhouette_score(tsne_df[['t-SNE1', 't-SNE2']], hdbscan_labels)\n",
    "hdbscan_davies_bouldin = davies_bouldin_score(tsne_df[['t-SNE1', 't-SNE2']], hdbscan_labels)\n",
    "hdbscan_calinski_harabasz = calinski_harabasz_score(tsne_df[['t-SNE1', 't-SNE2']], hdbscan_labels)\n",
    "\n",
    "print(f'HDBSCAN Silhouette Score: {hdbscan_silhouette}')\n",
    "print(f'HDBSCAN Davies-Bouldin Score: {hdbscan_davies_bouldin}')\n",
    "print(f'HDBSCAN Calinski-Harabasz Score: {hdbscan_calinski_harabasz}')"
   ]
  },
  {
   "cell_type": "markdown",
   "metadata": {},
   "source": [
    "## Visualize the Clustering Results\n",
    "\n",
    "Visualize the clustering results for both DBSCAN and HDBSCAN."
   ]
  },
  {
   "cell_type": "code",
   "execution_count": null,
   "metadata": {},
   "outputs": [],
   "source": [
    "# Visualize DBSCAN clustering results\n",
    "plt.figure(figsize=(10, 6))\n",
    "plt.scatter(tsne_df['t-SNE1'], tsne_df['t-SNE2'], c=tsne_df['DBSCAN_Cluster'], cmap='viridis')\n",
    "plt.xlabel('t-SNE1')\n",
    "plt.ylabel('t-SNE2')\n",
    "plt.title('DBSCAN Clustering on t-SNE Reduced Data')\n",
    "plt.show()"
   ]
  },
  {
   "cell_type": "code",
   "execution_count": null,
   "metadata": {},
   "outputs": [],
   "source": [
    "# Visualize HDBSCAN clustering results\n",
    "plt.figure(figsize=(10, 6))\n",
    "plt.scatter(tsne_df['t-SNE1'], tsne_df['t-SNE2'], c=tsne_df['HDBSCAN_Cluster'], cmap='plasma')\n",
    "plt.xlabel('t-SNE1')\n",
    "plt.ylabel('t-SNE2')\n",
    "plt.title('HDBSCAN Clustering on t-SNE Reduced Data')\n",
    "plt.show()"
   ]
  }
 ],
 "metadata": {
  "kernelspec": {
   "display_name": "Python 3",
   "language": "python",
   "name": "python3"
  },
  "language_info": {
   "codemirror_mode": {
    "name": "ipython",
    "version": 3
   },
   "file_extension": ".py",
   "mimetype": "text/x-python",
   "name": "python",
   "nbconvert_exporter": "python",
   "pygments_lexer": "ipython3",
   "version": "3.8.5"
  }
 },
 "nbformat": 4,
 "nbformat_minor": 4
}
