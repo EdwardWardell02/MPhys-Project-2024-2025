{
 "cells": [
  {
   "cell_type": "markdown",
   "metadata": {},
   "source": [
    "# DBSCAN Clustering on RS and Using Centroid, Apply to WS"
   ]
  },
  {
   "cell_type": "code",
   "execution_count": null,
   "metadata": {},
   "outputs": [],
   "source": [
    "import numpy as np\n",
    "import pandas as pd\n",
    "from sklearn.cluster import DBSCAN\n",
    "from sklearn.preprocessing import StandardScaler\n",
    "import matplotlib.pyplot as plt\n",
    "\n",
    "# Load the RS dataset\n",
    "rs_data = pd.read_csv('rs_data.csv')\n",
    "\n",
    "# Standardize the features\n",
    "scaler = StandardScaler()\n",
    "rs_data_scaled = scaler.fit_transform(rs_data)\n",
    "\n",
    "# Apply DBSCAN clustering\n",
    "dbscan = DBSCAN(eps=0.5, min_samples=5)\n",
    "rs_labels = dbscan.fit_predict(rs_data_scaled)\n",
    "\n",
    "# Calculate the centroid of each cluster\n",
    "centroids = []\n",
    "for label in np.unique(rs_labels):\n",
    "    if label != -1:  # Ignore noise points\n",
    "        centroid = rs_data_scaled[rs_labels == label].mean(axis=0)\n",
    "        centroids.append(centroid)\n",
    "centroids = np.array(centroids)\n",
    "\n",
    "# Load the WS dataset\n",
    "ws_data = pd.read_csv('ws_data.csv')\n",
    "ws_data_scaled = scaler.transform(ws_data)\n",
    "\n",
    "# Assign WS data points to the nearest centroid\n",
    "ws_labels = []\n",
    "for point in ws_data_scaled:\n",
    "    distances = np.linalg.norm(centroids - point, axis=1)\n",
    "    ws_labels.append(np.argmin(distances))\n",
    "ws_labels = np.array(ws_labels)\n",
    "\n",
    "# Plot the results\n",
    "plt.figure(figsize=(10, 5))\n",
    "plt.subplot(1, 2, 1)\n",
    "plt.scatter(rs_data_scaled[:, 0], rs_data_scaled[:, 1], c=rs_labels, cmap='viridis')\n",
    "plt.title('RS Data Clustering')\n",
    "plt.subplot(1, 2, 2)\n",
    "plt.scatter(ws_data_scaled[:, 0], ws_data_scaled[:, 1], c=ws_labels, cmap='viridis')\n",
    "plt.title('WS Data Assigned to Centroids')\n",
    "plt.show()\n"
   ]
  }
 ],
 "metadata": {
  "kernelspec": {
   "display_name": "Python 3",
   "language": "python",
   "name": "python3"
  },
  "language_info": {
   "codemirror_mode": {
    "name": "ipython",
    "version": 3
   },
   "file_extension": ".py",
   "mimetype": "text/x-python",
   "name": "python",
   "nbconvert_exporter": "python",
   "pygments_lexer": "ipython3",
   "version": "3.8.5"
  }
 },
 "nbformat": 4,
 "nbformat_minor": 4
}
