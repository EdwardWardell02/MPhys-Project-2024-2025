{
 "cells": [
  {
   "cell_type": "markdown",
   "metadata": {},
   "source": [
    "# HDBSCAN Clustering on RS and Using Centroid, Apply to WS\n",
    "\n",
    "This notebook demonstrates the use of HDBSCAN clustering on a reference sample (RS) and then applies the centroid of the clusters to a working sample (WS)."
   ]
  },
  {
   "cell_type": "code",
   "execution_count": null,
   "metadata": {},
   "outputs": [],
   "source": [
    "# Import necessary libraries\n",
    "import numpy as np\n",
    "import pandas as pd\n",
    "import hdbscan\n",
    "from sklearn.preprocessing import StandardScaler\n",
    "import matplotlib.pyplot as plt\n",
    "%matplotlib inline"
   ]
  },
  {
   "cell_type": "markdown",
   "metadata": {},
   "source": [
    "## Load the Data\n",
    "\n",
    "Load the reference sample (RS) and working sample (WS) data."
   ]
  },
  {
   "cell_type": "code",
   "execution_count": null,
   "metadata": {},
   "outputs": [],
   "source": [
    "# Load the data\n",
    "RS_data = pd.read_csv('RS_data.csv')\n",
    "WS_data = pd.read_csv('WS_data.csv')\n",
    "\n",
    "# Display the first few rows of the data\n",
    "RS_data.head(), WS_data.head()"
   ]
  },
  {
   "cell_type": "markdown",
   "metadata": {},
   "source": [
    "## Preprocess the Data\n",
    "\n",
    "Standardize the features before applying HDBSCAN."
   ]
  },
  {
   "cell_type": "code",
   "execution_count": null,
   "metadata": {},
   "outputs": [],
   "source": [
    "# Standardize the features\n",
    "scaler = StandardScaler()\n",
    "RS_scaled = scaler.fit_transform(RS_data)\n",
    "WS_scaled = scaler.transform(WS_data)"
   ]
  },
  {
   "cell_type": "markdown",
   "metadata": {},
   "source": [
    "## Apply HDBSCAN on RS\n",
    "\n",
    "Cluster the reference sample using HDBSCAN."
   ]
  },
  {
   "cell_type": "code",
   "execution_count": null,
   "metadata": {},
   "outputs": [],
   "source": [
    "# Apply HDBSCAN\n",
    "clusterer = hdbscan.HDBSCAN(min_cluster_size=5)\n",
    "RS_labels = clusterer.fit_predict(RS_scaled)\n",
    "\n",
    "# Add the cluster labels to the RS data\n",
    "RS_data['Cluster'] = RS_labels"
   ]
  },
  {
   "cell_type": "markdown",
   "metadata": {},
   "source": [
    "## Calculate Centroids\n",
    "\n",
    "Calculate the centroids of the clusters in the reference sample."
   ]
  },
  {
   "cell_type": "code",
   "execution_count": null,
   "metadata": {},
   "outputs": [],
   "source": [
    "# Calculate centroids\n",
    "centroids = RS_data.groupby('Cluster').mean()\n",
    "centroids = centroids.drop('Cluster', axis=1)\n",
    "centroids"
   ]
  },
  {
   "cell_type": "markdown",
   "metadata": {},
   "source": [
    "## Apply Centroids to WS\n",
    "\n",
    "Assign each point in the working sample to the nearest centroid."
   ]
  },
  {
   "cell_type": "code",
   "execution_count": null,
   "metadata": {},
   "outputs": [],
   "source": [
    "# Assign each point in WS to the nearest centroid\n",
    "def assign_to_centroid(point, centroids):\n",
    "    distances = np.linalg.norm(centroids - point, axis=1)\n",
    "    return np.argmin(distances)\n",
    "\n",
    "WS_data['Assigned Cluster'] = WS_scaled.apply(lambda x: assign_to_centroid(x, centroids.values), axis=1)\n",
    "WS_data.head()"
   ]
  },
  {
   "cell_type": "markdown",
   "metadata": {},
   "source": [
    "## Visualize the Results\n",
    "\n",
    "Visualize the clustering results."
   ]
  },
  {
   "cell_type": "code",
   "execution_count": null,
   "metadata": {},
   "outputs": [],
   "source": [
    "# Visualize the clustering results\n",
    "plt.figure(figsize=(10, 6))\n",
    "plt.scatter(RS_data.iloc[:, 0], RS_data.iloc[:, 1], c=RS_labels, cmap='viridis', label='RS Clusters')\n",
    "plt.scatter(WS_data.iloc[:, 0], WS_data.iloc[:, 1], c=WS_data['Assigned Cluster'], cmap='plasma', marker='x', label='WS Assigned Clusters')\n",
    "plt.legend()\n",
    "plt.xlabel('Feature 1')\n",
    "plt.ylabel('Feature 2')\n",
    "plt.title('HDBSCAN Clustering on RS and Applying Centroids to WS')\n",
    "plt.show()"
   ]
  }
 ],
 "metadata": {
  "kernelspec": {
   "display_name": "Python 3",
   "language": "python",
   "name": "python3"
  },
  "language_info": {
   "codemirror_mode": {
    "name": "ipython",
    "version": 3
   },
   "file_extension": ".py",
   "mimetype": "text/x-python",
   "name": "python",
   "nbconvert_exporter": "python",
   "pygments_lexer": "ipython3",
   "version": "3.8.5"
  }
 },
 "nbformat": 4,
 "nbformat_minor": 4
}
